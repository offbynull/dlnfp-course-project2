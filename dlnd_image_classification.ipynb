{
 "cells": [
  {
   "cell_type": "markdown",
   "metadata": {
    "collapsed": true,
    "deletable": true,
    "editable": true
   },
   "source": [
    "# Image Classification\n",
    "In this project, you'll classify images from the [CIFAR-10 dataset](https://www.cs.toronto.edu/~kriz/cifar.html).  The dataset consists of airplanes, dogs, cats, and other objects. You'll preprocess the images, then train a convolutional neural network on all the samples. The images need to be normalized and the labels need to be one-hot encoded.  You'll get to apply what you learned and build a convolutional, max pooling, dropout, and fully connected layers.  At the end, you'll get to see your neural network's predictions on the sample images.\n",
    "## Get the Data\n",
    "Run the following cell to download the [CIFAR-10 dataset for python](https://www.cs.toronto.edu/~kriz/cifar-10-python.tar.gz)."
   ]
  },
  {
   "cell_type": "code",
   "execution_count": 1,
   "metadata": {
    "collapsed": false,
    "deletable": true,
    "editable": true
   },
   "outputs": [
    {
     "name": "stderr",
     "output_type": "stream",
     "text": [
      "CIFAR-10 Dataset: 171MB [00:32, 5.17MB/s]                              \n"
     ]
    },
    {
     "name": "stdout",
     "output_type": "stream",
     "text": [
      "All files found!\n"
     ]
    }
   ],
   "source": [
    "\"\"\"\n",
    "DON'T MODIFY ANYTHING IN THIS CELL THAT IS BELOW THIS LINE\n",
    "\"\"\"\n",
    "from urllib.request import urlretrieve\n",
    "from os.path import isfile, isdir\n",
    "from tqdm import tqdm\n",
    "import problem_unittests as tests\n",
    "import tarfile\n",
    "\n",
    "cifar10_dataset_folder_path = 'cifar-10-batches-py'\n",
    "\n",
    "class DLProgress(tqdm):\n",
    "    last_block = 0\n",
    "\n",
    "    def hook(self, block_num=1, block_size=1, total_size=None):\n",
    "        self.total = total_size\n",
    "        self.update((block_num - self.last_block) * block_size)\n",
    "        self.last_block = block_num\n",
    "\n",
    "if not isfile('cifar-10-python.tar.gz'):\n",
    "    with DLProgress(unit='B', unit_scale=True, miniters=1, desc='CIFAR-10 Dataset') as pbar:\n",
    "        urlretrieve(\n",
    "            'https://www.cs.toronto.edu/~kriz/cifar-10-python.tar.gz',\n",
    "            'cifar-10-python.tar.gz',\n",
    "            pbar.hook)\n",
    "\n",
    "if not isdir(cifar10_dataset_folder_path):\n",
    "    with tarfile.open('cifar-10-python.tar.gz') as tar:\n",
    "        tar.extractall()\n",
    "        tar.close()\n",
    "\n",
    "\n",
    "tests.test_folder_path(cifar10_dataset_folder_path)"
   ]
  },
  {
   "cell_type": "markdown",
   "metadata": {
    "deletable": true,
    "editable": true
   },
   "source": [
    "## Explore the Data\n",
    "The dataset is broken into batches to prevent your machine from running out of memory.  The CIFAR-10 dataset consists of 5 batches, named `data_batch_1`, `data_batch_2`, etc.. Each batch contains the labels and images that are one of the following:\n",
    "* airplane\n",
    "* automobile\n",
    "* bird\n",
    "* cat\n",
    "* deer\n",
    "* dog\n",
    "* frog\n",
    "* horse\n",
    "* ship\n",
    "* truck\n",
    "\n",
    "Understanding a dataset is part of making predictions on the data.  Play around with the code cell below by changing the `batch_id` and `sample_id`. The `batch_id` is the id for a batch (1-5). The `sample_id` is the id for a image and label pair in the batch.\n",
    "\n",
    "Ask yourself \"What are all possible labels?\", \"What is the range of values for the image data?\", \"Are the labels in order or random?\".  Answers to questions like these will help you preprocess the data and end up with better predictions."
   ]
  },
  {
   "cell_type": "code",
   "execution_count": 2,
   "metadata": {
    "collapsed": false,
    "deletable": true,
    "editable": true
   },
   "outputs": [
    {
     "name": "stdout",
     "output_type": "stream",
     "text": [
      "\n",
      "Stats of batch 5:\n",
      "Samples: 10000\n",
      "Label Counts: {0: 1014, 1: 1014, 2: 952, 3: 1016, 4: 997, 5: 1025, 6: 980, 7: 977, 8: 1003, 9: 1022}\n",
      "First 20 Labels: [1, 8, 5, 1, 5, 7, 4, 3, 8, 2, 7, 2, 0, 1, 5, 9, 6, 2, 0, 8]\n",
      "\n",
      "Example of Image 8:\n",
      "Image - Min Value: 0 Max Value: 247\n",
      "Image - Shape: (32, 32, 3)\n",
      "Label - Label Id: 8 Name: ship\n"
     ]
    },
    {
     "data": {
      "image/png": "[encoded data removed]",
      "text/plain": [
       "<matplotlib.figure.Figure at 0x7f7e525c8048>"
      ]
     },
     "metadata": {
      "image/png": {
       "height": 250,
       "width": 253
      }
     },
     "output_type": "display_data"
    }
   ],
   "source": [
    "%matplotlib inline\n",
    "%config InlineBackend.figure_format = 'retina'\n",
    "\n",
    "import helper\n",
    "import numpy as np\n",
    "\n",
    "# Explore the dataset\n",
    "batch_id = 5\n",
    "sample_id = 8\n",
    "helper.display_stats(cifar10_dataset_folder_path, batch_id, sample_id)"
   ]
  },
  {
   "cell_type": "markdown",
   "metadata": {
    "deletable": true,
    "editable": true
   },
   "source": [
    "## Implement Preprocess Functions\n",
    "### Normalize\n",
    "In the cell below, implement the `normalize` function to take in image data, `x`, and return it as a normalized Numpy array. The values should be in the range of 0 to 1, inclusive.  The return object should be the same shape as `x`."
   ]
  },
  {
   "cell_type": "code",
   "execution_count": 3,
   "metadata": {
    "collapsed": false,
    "deletable": true,
    "editable": true
   },
   "outputs": [
    {
     "name": "stdout",
     "output_type": "stream",
     "text": [
      "Tests Passed\n"
     ]
    }
   ],
   "source": [
    "def normalize(x):\n",
    "    \"\"\"\n",
    "    Normalize a list of sample image data in the range of 0 to 1\n",
    "    : x: List of image data.  The image shape is (32, 32, 3)\n",
    "    : return: Numpy array of normalize data\n",
    "    \"\"\"\n",
    "    x_min = np.min(x)\n",
    "    x_max = np.max(x)\n",
    "    ret = (x - x_min) / (x_max - x_min)\n",
    "    #print(ret)\n",
    "    return ret\n",
    "\n",
    "\n",
    "\"\"\"\n",
    "DON'T MODIFY ANYTHING IN THIS CELL THAT IS BELOW THIS LINE\n",
    "\"\"\"\n",
    "tests.test_normalize(normalize)"
   ]
  },
  {
   "cell_type": "markdown",
   "metadata": {
    "deletable": true,
    "editable": true
   },
   "source": [
    "### One-hot encode\n",
    "Just like the previous code cell, you'll be implementing a function for preprocessing.  This time, you'll implement the `one_hot_encode` function. The input, `x`, are a list of labels.  Implement the function to return the list of labels as One-Hot encoded Numpy array.  The possible values for labels are 0 to 9. The one-hot encoding function should return the same encoding for each value between each call to `one_hot_encode`.  Make sure to save the map of encodings outside the function.\n",
    "\n",
    "Hint: Don't reinvent the wheel."
   ]
  },
  {
   "cell_type": "code",
   "execution_count": 4,
   "metadata": {
    "collapsed": false,
    "deletable": true,
    "editable": true
   },
   "outputs": [
    {
     "name": "stdout",
     "output_type": "stream",
     "text": [
      "Tests Passed\n"
     ]
    }
   ],
   "source": [
    "def one_hot_encode(x):\n",
    "    \"\"\"\n",
    "    One hot encode a list of sample labels. Return a one-hot encoded vector for each label.\n",
    "    : x: List of sample Labels\n",
    "    : return: Numpy array of one-hot encoded labels\n",
    "    \"\"\"\n",
    "    ret = np.eye(10)[x]\n",
    "    return ret\n",
    "\n",
    "\n",
    "\"\"\"\n",
    "DON'T MODIFY ANYTHING IN THIS CELL THAT IS BELOW THIS LINE\n",
    "\"\"\"\n",
    "tests.test_one_hot_encode(one_hot_encode)"
   ]
  },
  {
   "cell_type": "markdown",
   "metadata": {
    "deletable": true,
    "editable": true
   },
   "source": [
    "### Randomize Data\n",
    "As you saw from exploring the data above, the order of the samples are randomized.  It doesn't hurt to randomize it again, but you don't need to for this dataset."
   ]
  },
  {
   "cell_type": "markdown",
   "metadata": {
    "deletable": true,
    "editable": true
   },
   "source": [
    "## Preprocess all the data and save it\n",
    "Running the code cell below will preprocess all the CIFAR-10 data and save it to file. The code below also uses 10% of the training data for validation."
   ]
  },
  {
   "cell_type": "code",
   "execution_count": 5,
   "metadata": {
    "collapsed": false,
    "deletable": true,
    "editable": true
   },
   "outputs": [],
   "source": [
    "\"\"\"\n",
    "DON'T MODIFY ANYTHING IN THIS CELL\n",
    "\"\"\"\n",
    "# Preprocess Training, Validation, and Testing Data\n",
    "helper.preprocess_and_save_data(cifar10_dataset_folder_path, normalize, one_hot_encode)"
   ]
  },
  {
   "cell_type": "markdown",
   "metadata": {
    "deletable": true,
    "editable": true
   },
   "source": [
    "# Check Point\n",
    "This is your first checkpoint.  If you ever decide to come back to this notebook or have to restart the notebook, you can start from here.  The preprocessed data has been saved to disk."
   ]
  },
  {
   "cell_type": "code",
   "execution_count": 6,
   "metadata": {
    "collapsed": true,
    "deletable": true,
    "editable": true
   },
   "outputs": [],
   "source": [
    "\"\"\"\n",
    "DON'T MODIFY ANYTHING IN THIS CELL\n",
    "\"\"\"\n",
    "import pickle\n",
    "import problem_unittests as tests\n",
    "import helper\n",
    "\n",
    "# Load the Preprocessed Validation data\n",
    "valid_features, valid_labels = pickle.load(open('preprocess_validation.p', mode='rb'))"
   ]
  },
  {
   "cell_type": "markdown",
   "metadata": {
    "deletable": true,
    "editable": true
   },
   "source": [
    "## Build the network\n",
    "For the neural network, you'll build each layer into a function.  Most of the code you've seen has been outside of functions. To test your code more thoroughly, we require that you put each layer in a function.  This allows us to give you better feedback and test for simple mistakes using our unittests before you submit your project.\n",
    "\n",
    ">**Note:** If you're finding it hard to dedicate enough time for this course each week, we've provided a small shortcut to this part of the project. In the next couple of problems, you'll have the option to use classes from the [TensorFlow Layers](https://www.tensorflow.org/api_docs/python/tf/layers) or [TensorFlow Layers (contrib)](https://www.tensorflow.org/api_guides/python/contrib.layers) packages to build each layer, except the layers you build in the \"Convolutional and Max Pooling Layer\" section.  TF Layers is similar to Keras's and TFLearn's abstraction to layers, so it's easy to pickup.\n",
    "\n",
    ">However, if you would like to get the most out of this course, try to solve all the problems _without_ using anything from the TF Layers packages. You **can** still use classes from other packages that happen to have the same name as ones you find in TF Layers! For example, instead of using the TF Layers version of the `conv2d` class, [tf.layers.conv2d](https://www.tensorflow.org/api_docs/python/tf/layers/conv2d), you would want to use the TF Neural Network version of `conv2d`, [tf.nn.conv2d](https://www.tensorflow.org/api_docs/python/tf/nn/conv2d). \n",
    "\n",
    "Let's begin!\n",
    "\n",
    "### Input\n",
    "The neural network needs to read the image data, one-hot encoded labels, and dropout keep probability. Implement the following functions\n",
    "* Implement `neural_net_image_input`\n",
    " * Return a [TF Placeholder](https://www.tensorflow.org/api_docs/python/tf/placeholder)\n",
    " * Set the shape using `image_shape` with batch size set to `None`.\n",
    " * Name the TensorFlow placeholder \"x\" using the TensorFlow `name` parameter in the [TF Placeholder](https://www.tensorflow.org/api_docs/python/tf/placeholder).\n",
    "* Implement `neural_net_label_input`\n",
    " * Return a [TF Placeholder](https://www.tensorflow.org/api_docs/python/tf/placeholder)\n",
    " * Set the shape using `n_classes` with batch size set to `None`.\n",
    " * Name the TensorFlow placeholder \"y\" using the TensorFlow `name` parameter in the [TF Placeholder](https://www.tensorflow.org/api_docs/python/tf/placeholder).\n",
    "* Implement `neural_net_keep_prob_input`\n",
    " * Return a [TF Placeholder](https://www.tensorflow.org/api_docs/python/tf/placeholder) for dropout keep probability.\n",
    " * Name the TensorFlow placeholder \"keep_prob\" using the TensorFlow `name` parameter in the [TF Placeholder](https://www.tensorflow.org/api_docs/python/tf/placeholder).\n",
    "\n",
    "These names will be used at the end of the project to load your saved model.\n",
    "\n",
    "Note: `None` for shapes in TensorFlow allow for a dynamic size."
   ]
  },
  {
   "cell_type": "code",
   "execution_count": 7,
   "metadata": {
    "collapsed": false,
    "deletable": true,
    "editable": true
   },
   "outputs": [
    {
     "name": "stdout",
     "output_type": "stream",
     "text": [
      "Image Input Tests Passed.\n",
      "Label Input Tests Passed.\n",
      "Keep Prob Tests Passed.\n"
     ]
    }
   ],
   "source": [
    "import tensorflow as tf\n",
    "\n",
    "def neural_net_image_input(image_shape):\n",
    "    \"\"\"\n",
    "    Return a Tensor for a bach of image input\n",
    "    : image_shape: Shape of the images\n",
    "    : return: Tensor for image input.\n",
    "    \"\"\"\n",
    "    width = image_shape[0]\n",
    "    height = image_shape[1]\n",
    "    channels = image_shape[2]\n",
    "    return tf.placeholder(tf.float32, shape=[None, width, height, channels], name='x')\n",
    "\n",
    "\n",
    "def neural_net_label_input(n_classes):\n",
    "    \"\"\"\n",
    "    Return a Tensor for a batch of label input\n",
    "    : n_classes: Number of classes\n",
    "    : return: Tensor for label input.\n",
    "    \"\"\"\n",
    "    return tf.placeholder(tf.float32, shape=[None, n_classes], name='y')\n",
    "\n",
    "\n",
    "def neural_net_keep_prob_input():\n",
    "    \"\"\"\n",
    "    Return a Tensor for keep probability\n",
    "    : return: Tensor for keep probability.\n",
    "    \"\"\"\n",
    "    return tf.placeholder(tf.float32, name='keep_prob')\n",
    "\n",
    "\n",
    "\"\"\"\n",
    "DON'T MODIFY ANYTHING IN THIS CELL THAT IS BELOW THIS LINE\n",
    "\"\"\"\n",
    "tf.reset_default_graph()\n",
    "tests.test_nn_image_inputs(neural_net_image_input)\n",
    "tests.test_nn_label_inputs(neural_net_label_input)\n",
    "tests.test_nn_keep_prob_inputs(neural_net_keep_prob_input)"
   ]
  },
  {
   "cell_type": "markdown",
   "metadata": {
    "deletable": true,
    "editable": true
   },
   "source": [
    "### Convolution and Max Pooling Layer\n",
    "Convolution layers have a lot of success with images. For this code cell, you should implement the function `conv2d_maxpool` to apply convolution then max pooling:\n",
    "* Create the weight and bias using `conv_ksize`, `conv_num_outputs` and the shape of `x_tensor`.\n",
    "* Apply a convolution to `x_tensor` using weight and `conv_strides`.\n",
    " * We recommend you use same padding, but you're welcome to use any padding.\n",
    "* Add bias\n",
    "* Add a nonlinear activation to the convolution.\n",
    "* Apply Max Pooling using `pool_ksize` and `pool_strides`.\n",
    " * We recommend you use same padding, but you're welcome to use any padding.\n",
    "\n",
    "**Note:** You **can't** use [TensorFlow Layers](https://www.tensorflow.org/api_docs/python/tf/layers) or [TensorFlow Layers (contrib)](https://www.tensorflow.org/api_guides/python/contrib.layers) for **this** layer, but you can still use TensorFlow's [Neural Network](https://www.tensorflow.org/api_docs/python/tf/nn) package. You may still use the shortcut option for all the **other** layers."
   ]
  },
  {
   "cell_type": "code",
   "execution_count": 8,
   "metadata": {
    "collapsed": false,
    "deletable": true,
    "editable": true
   },
   "outputs": [
    {
     "name": "stdout",
     "output_type": "stream",
     "text": [
      "Tests Passed\n"
     ]
    }
   ],
   "source": [
    "def conv2d_maxpool(x_tensor, conv_num_outputs, conv_ksize, conv_strides, pool_ksize, pool_strides):\n",
    "    \"\"\"\n",
    "    Apply convolution then max pooling to x_tensor\n",
    "    :param x_tensor: TensorFlow Tensor\n",
    "    :param conv_num_outputs: Number of outputs for the convolutional layer\n",
    "    :param conv_ksize: kernal size 2-D Tuple for the convolutional layer\n",
    "    :param conv_strides: Stride 2-D Tuple for convolution\n",
    "    :param pool_ksize: kernal size 2-D Tuple for pool\n",
    "    :param pool_strides: Stride 2-D Tuple for pool\n",
    "    : return: A tensor that represents convolution and max pooling of x_tensor\n",
    "    \"\"\"\n",
    "    weight = tf.Variable(tf.truncated_normal((conv_ksize[0], conv_ksize[1], x_tensor.shape.as_list()[3], conv_num_outputs), mean=0.0, stddev=0.01, dtype=tf.float32, seed=None, name=None))\n",
    "    bias = tf.Variable(tf.zeros(conv_num_outputs))\n",
    "    x = tf.nn.conv2d(x_tensor, weight, strides=[1, *conv_strides, 1], padding='SAME')\n",
    "    x = tf.nn.bias_add(x, bias)\n",
    "    x = tf.nn.relu(x)\n",
    "    return tf.nn.max_pool(x, ksize=[1, *pool_ksize, 1], strides=[1, *pool_strides, 1], padding='SAME')\n",
    "\n",
    "\n",
    "\"\"\"\n",
    "DON'T MODIFY ANYTHING IN THIS CELL THAT IS BELOW THIS LINE\n",
    "\"\"\"\n",
    "tests.test_con_pool(conv2d_maxpool)"
   ]
  },
  {
   "cell_type": "markdown",
   "metadata": {
    "deletable": true,
    "editable": true
   },
   "source": [
    "### Flatten Layer\n",
    "Implement the `flatten` function to change the dimension of `x_tensor` from a 4-D tensor to a 2-D tensor.  The output should be the shape (*Batch Size*, *Flattened Image Size*). Shortcut option: you can use classes from the [TensorFlow Layers](https://www.tensorflow.org/api_docs/python/tf/layers) or [TensorFlow Layers (contrib)](https://www.tensorflow.org/api_guides/python/contrib.layers) packages for this layer. For more of a challenge, only use other TensorFlow packages."
   ]
  },
  {
   "cell_type": "code",
   "execution_count": 9,
   "metadata": {
    "collapsed": false,
    "deletable": true,
    "editable": true
   },
   "outputs": [
    {
     "name": "stdout",
     "output_type": "stream",
     "text": [
      "Tests Passed\n"
     ]
    }
   ],
   "source": [
    "def flatten(x_tensor):\n",
    "    \"\"\"\n",
    "    Flatten x_tensor to (Batch Size, Flattened Image Size)\n",
    "    : x_tensor: A tensor of size (Batch Size, ...), where ... are the image dimensions.\n",
    "    : return: A tensor of size (Batch Size, Flattened Image Size).\n",
    "    \"\"\"\n",
    "    #dimensions_without_batch = x_tensor.get_shape().as_list()[1:]\n",
    "    #return tf.reshape(x_tensor, [-1, np.prod(dimensions_without_batch)])\n",
    "    return tf.contrib.layers.flatten(x_tensor)\n",
    "\n",
    "\n",
    "\"\"\"\n",
    "DON'T MODIFY ANYTHING IN THIS CELL THAT IS BELOW THIS LINE\n",
    "\"\"\"\n",
    "tests.test_flatten(flatten)"
   ]
  },
  {
   "cell_type": "markdown",
   "metadata": {
    "deletable": true,
    "editable": true
   },
   "source": [
    "### Fully-Connected Layer\n",
    "Implement the `fully_conn` function to apply a fully connected layer to `x_tensor` with the shape (*Batch Size*, *num_outputs*). Shortcut option: you can use classes from the [TensorFlow Layers](https://www.tensorflow.org/api_docs/python/tf/layers) or [TensorFlow Layers (contrib)](https://www.tensorflow.org/api_guides/python/contrib.layers) packages for this layer. For more of a challenge, only use other TensorFlow packages."
   ]
  },
  {
   "cell_type": "code",
   "execution_count": 10,
   "metadata": {
    "collapsed": false,
    "deletable": true,
    "editable": true
   },
   "outputs": [
    {
     "name": "stdout",
     "output_type": "stream",
     "text": [
      "Tests Passed\n"
     ]
    }
   ],
   "source": [
    "def fully_conn(x_tensor, num_outputs):\n",
    "    \"\"\"\n",
    "    Apply a fully connected layer to x_tensor using weight and bias\n",
    "    : x_tensor: A 2-D tensor where the first dimension is batch size.\n",
    "    : num_outputs: The number of output that the new tensor should be.\n",
    "    : return: A 2-D tensor where the second dimension is num_outputs.\n",
    "    \"\"\"\n",
    "    #n_input = x_tensor.get_shape().as_list()[1]\n",
    "    #n_output = num_outputs\n",
    "    #\n",
    "    #weights = tf.Variable(tf.truncated_normal([n_input, n_output], stddev=0.05))\n",
    "    #biases = tf.Variable(tf.zeros([n_output]))\n",
    "    # \n",
    "    #layer = tf.add(tf.matmul(x_tensor, weights), biases)\n",
    "    #layer = tf.nn.relu(layer)\n",
    "    #return layer\n",
    "    return tf.contrib.layers.fully_connected(x_tensor, num_outputs, activation_fn=tf.nn.relu)\n",
    "    \n",
    "    \n",
    "\n",
    "\n",
    "\"\"\"\n",
    "DON'T MODIFY ANYTHING IN THIS CELL THAT IS BELOW THIS LINE\n",
    "\"\"\"\n",
    "tests.test_fully_conn(fully_conn)"
   ]
  },
  {
   "cell_type": "markdown",
   "metadata": {
    "deletable": true,
    "editable": true
   },
   "source": [
    "### Output Layer\n",
    "Implement the `output` function to apply a fully connected layer to `x_tensor` with the shape (*Batch Size*, *num_outputs*). Shortcut option: you can use classes from the [TensorFlow Layers](https://www.tensorflow.org/api_docs/python/tf/layers) or [TensorFlow Layers (contrib)](https://www.tensorflow.org/api_guides/python/contrib.layers) packages for this layer. For more of a challenge, only use other TensorFlow packages.\n",
    "\n",
    "**Note:** Activation, softmax, or cross entropy should **not** be applied to this."
   ]
  },
  {
   "cell_type": "code",
   "execution_count": 12,
   "metadata": {
    "collapsed": false,
    "deletable": true,
    "editable": true
   },
   "outputs": [
    {
     "name": "stdout",
     "output_type": "stream",
     "text": [
      "Tests Passed\n"
     ]
    }
   ],
   "source": [
    "def output(x_tensor, num_outputs):\n",
    "    \"\"\"\n",
    "    Apply a output layer to x_tensor using weight and bias\n",
    "    : x_tensor: A 2-D tensor where the first dimension is batch size.\n",
    "    : num_outputs: The number of output that the new tensor should be.\n",
    "    : return: A 2-D tensor where the second dimension is num_outputs.\n",
    "    \"\"\"\n",
    "    #n_input = x_tensor.get_shape().as_list()[1]\n",
    "    #n_output = num_outputs\n",
    "    #\n",
    "    #weights = tf.Variable(tf.truncated_normal([n_input, n_output], stddev=0.05))\n",
    "    #biases = tf.Variable(tf.zeros([n_output]))\n",
    "    #\n",
    "    #layer = tf.add(tf.matmul(x_tensor, weights), biases)\n",
    "    #\n",
    "    #return layer\n",
    "    return tf.contrib.layers.fully_connected(x_tensor, num_outputs, activation_fn=None)\n",
    "\n",
    "\n",
    "\"\"\"\n",
    "DON'T MODIFY ANYTHING IN THIS CELL THAT IS BELOW THIS LINE\n",
    "\"\"\"\n",
    "tests.test_output(output)"
   ]
  },
  {
   "cell_type": "markdown",
   "metadata": {
    "deletable": true,
    "editable": true
   },
   "source": [
    "### Create Convolutional Model\n",
    "Implement the function `conv_net` to create a convolutional neural network model. The function takes in a batch of images, `x`, and outputs logits.  Use the layers you created above to create this model:\n",
    "\n",
    "* Apply 1, 2, or 3 Convolution and Max Pool layers\n",
    "* Apply a Flatten Layer\n",
    "* Apply 1, 2, or 3 Fully Connected Layers\n",
    "* Apply an Output Layer\n",
    "* Return the output\n",
    "* Apply [TensorFlow's Dropout](https://www.tensorflow.org/api_docs/python/tf/nn/dropout) to one or more layers in the model using `keep_prob`. "
   ]
  },
  {
   "cell_type": "code",
   "execution_count": 13,
   "metadata": {
    "collapsed": false,
    "deletable": true,
    "editable": true
   },
   "outputs": [
    {
     "name": "stdout",
     "output_type": "stream",
     "text": [
      "Neural Network Built!\n"
     ]
    }
   ],
   "source": [
    "def conv_net(x, keep_prob):\n",
    "    \"\"\"\n",
    "    Create a convolutional neural network model\n",
    "    : x: Placeholder tensor that holds image data.\n",
    "    : keep_prob: Placeholder tensor that hold dropout keep probability.\n",
    "    : return: Tensor that represents logits\n",
    "    \"\"\"\n",
    "    # TODO: Apply 1, 2, or 3 Convolution and Max Pool layers\n",
    "    #    Play around with different number of outputs, kernel size and stride\n",
    "    # Function Definition from Above:\n",
    "    #    conv2d_maxpool(x_tensor, conv_num_outputs, conv_ksize, conv_strides, pool_ksize, pool_strides)\n",
    "    #x = conv2d_maxpool(x, 24, (3, 3), (1, 1), (2, 2), (2, 2))\n",
    "    x = conv2d_maxpool(x, 32, (3, 3), (1, 1), (2, 2), (2, 2))\n",
    "    x = conv2d_maxpool(x, 196, (3, 3), (1, 1), (2, 2), (2, 2))\n",
    "\n",
    "    # TODO: Apply a Flatten Layer\n",
    "    # Function Definition from Above:\n",
    "    x = flatten(x)\n",
    "    \n",
    "\n",
    "    # TODO: Apply 1, 2, or 3 Fully Connected Layers\n",
    "    #    Play around with different number of outputs\n",
    "    # Function Definition from Above:\n",
    "    x = fully_conn(x, 512)\n",
    "    x = tf.nn.dropout(x, keep_prob)\n",
    "    x = fully_conn(x, 512)\n",
    "    x = tf.nn.dropout(x, keep_prob)\n",
    "    \n",
    "    \n",
    "    # TODO: Apply an Output Layer\n",
    "    #    Set this to the number of classes\n",
    "    # Function Definition from Above:\n",
    "    x = output(x, 10)\n",
    "\n",
    "    return x\n",
    "\n",
    "\n",
    "\"\"\"\n",
    "DON'T MODIFY ANYTHING IN THIS CELL THAT IS BELOW THIS LINE\n",
    "\"\"\"\n",
    "\n",
    "##############################\n",
    "## Build the Neural Network ##\n",
    "##############################\n",
    "\n",
    "# Remove previous weights, bias, inputs, etc..\n",
    "tf.reset_default_graph()\n",
    "\n",
    "# Inputs\n",
    "x = neural_net_image_input((32, 32, 3))\n",
    "y = neural_net_label_input(10)\n",
    "keep_prob = neural_net_keep_prob_input()\n",
    "\n",
    "# Model\n",
    "logits = conv_net(x, keep_prob)\n",
    "\n",
    "# Name logits Tensor, so that is can be loaded from disk after training\n",
    "logits = tf.identity(logits, name='logits')\n",
    "\n",
    "# Loss and Optimizer\n",
    "cost = tf.reduce_mean(tf.nn.softmax_cross_entropy_with_logits(logits=logits, labels=y))\n",
    "optimizer = tf.train.AdamOptimizer().minimize(cost)\n",
    "\n",
    "# Accuracy\n",
    "correct_pred = tf.equal(tf.argmax(logits, 1), tf.argmax(y, 1))\n",
    "accuracy = tf.reduce_mean(tf.cast(correct_pred, tf.float32), name='accuracy')\n",
    "\n",
    "tests.test_conv_net(conv_net)"
   ]
  },
  {
   "cell_type": "markdown",
   "metadata": {
    "deletable": true,
    "editable": true
   },
   "source": [
    "## Train the Neural Network\n",
    "### Single Optimization\n",
    "Implement the function `train_neural_network` to do a single optimization.  The optimization should use `optimizer` to optimize in `session` with a `feed_dict` of the following:\n",
    "* `x` for image input\n",
    "* `y` for labels\n",
    "* `keep_prob` for keep probability for dropout\n",
    "\n",
    "This function will be called for each batch, so `tf.global_variables_initializer()` has already been called.\n",
    "\n",
    "Note: Nothing needs to be returned. This function is only optimizing the neural network."
   ]
  },
  {
   "cell_type": "code",
   "execution_count": 14,
   "metadata": {
    "collapsed": false,
    "deletable": true,
    "editable": true
   },
   "outputs": [
    {
     "name": "stdout",
     "output_type": "stream",
     "text": [
      "Tests Passed\n"
     ]
    }
   ],
   "source": [
    "def train_neural_network(session, optimizer, keep_probability, feature_batch, label_batch):\n",
    "    \"\"\"\n",
    "    Optimize the session on a batch of images and labels\n",
    "    : session: Current TensorFlow session\n",
    "    : optimizer: TensorFlow optimizer function\n",
    "    : keep_probability: keep probability\n",
    "    : feature_batch: Batch of Numpy image data\n",
    "    : label_batch: Batch of Numpy label data\n",
    "    \"\"\"\n",
    "    session.run(optimizer, feed_dict={\n",
    "        x: feature_batch,\n",
    "        y: label_batch,\n",
    "        keep_prob: keep_probability})\n",
    "\n",
    "\n",
    "\"\"\"\n",
    "DON'T MODIFY ANYTHING IN THIS CELL THAT IS BELOW THIS LINE\n",
    "\"\"\"\n",
    "tests.test_train_nn(train_neural_network)"
   ]
  },
  {
   "cell_type": "markdown",
   "metadata": {
    "deletable": true,
    "editable": true
   },
   "source": [
    "### Show Stats\n",
    "Implement the function `print_stats` to print loss and validation accuracy.  Use the global variables `valid_features` and `valid_labels` to calculate validation accuracy.  Use a keep probability of `1.0` to calculate the loss and validation accuracy."
   ]
  },
  {
   "cell_type": "code",
   "execution_count": 15,
   "metadata": {
    "collapsed": false,
    "deletable": true,
    "editable": true
   },
   "outputs": [],
   "source": [
    "def print_stats(session, feature_batch, label_batch, cost, accuracy):\n",
    "    \"\"\"\n",
    "    Print information about loss and validation accuracy\n",
    "    : session: Current TensorFlow session\n",
    "    : feature_batch: Batch of Numpy image data\n",
    "    : label_batch: Batch of Numpy label data\n",
    "    : cost: TensorFlow cost function\n",
    "    : accuracy: TensorFlow accuracy function\n",
    "    \"\"\"\n",
    "    loss = session.run(cost, feed_dict={\n",
    "        x: feature_batch,\n",
    "        y: label_batch,\n",
    "        keep_prob: 1.})\n",
    "    valid_acc = session.run(accuracy, feed_dict={\n",
    "        x: valid_features,\n",
    "        y: valid_labels,\n",
    "        keep_prob: 1.})\n",
    "\n",
    "    print('Loss: {:>10.4f} Validation Accuracy: {:.6f}'.format(loss, valid_acc))"
   ]
  },
  {
   "cell_type": "markdown",
   "metadata": {
    "deletable": true,
    "editable": true
   },
   "source": [
    "### Hyperparameters\n",
    "Tune the following parameters:\n",
    "* Set `epochs` to the number of iterations until the network stops learning or start overfitting\n",
    "* Set `batch_size` to the highest number that your machine has memory for.  Most people set them to common sizes of memory:\n",
    " * 64\n",
    " * 128\n",
    " * 256\n",
    " * ...\n",
    "* Set `keep_probability` to the probability of keeping a node using dropout"
   ]
  },
  {
   "cell_type": "code",
   "execution_count": 16,
   "metadata": {
    "collapsed": true,
    "deletable": true,
    "editable": true
   },
   "outputs": [],
   "source": [
    "# TODO: Tune Parameters\n",
    "epochs = 75\n",
    "batch_size = 256\n",
    "keep_probability = 0.8"
   ]
  },
  {
   "cell_type": "markdown",
   "metadata": {
    "deletable": true,
    "editable": true
   },
   "source": [
    "### Train on a Single CIFAR-10 Batch\n",
    "Instead of training the neural network on all the CIFAR-10 batches of data, let's use a single batch. This should save time while you iterate on the model to get a better accuracy.  Once the final validation accuracy is 50% or greater, run the model on all the data in the next section."
   ]
  },
  {
   "cell_type": "code",
   "execution_count": 17,
   "metadata": {
    "collapsed": false,
    "deletable": true,
    "editable": true,
    "scrolled": false
   },
   "outputs": [
    {
     "name": "stdout",
     "output_type": "stream",
     "text": [
      "Checking the Training on a Single Batch...\n",
      "Epoch  1, CIFAR-10 Batch 1:  Loss:     2.1524 Validation Accuracy: 0.243400\n",
      "Epoch  2, CIFAR-10 Batch 1:  Loss:     2.1353 Validation Accuracy: 0.278600\n",
      "Epoch  3, CIFAR-10 Batch 1:  Loss:     2.0466 Validation Accuracy: 0.351600\n",
      "Epoch  4, CIFAR-10 Batch 1:  Loss:     1.8401 Validation Accuracy: 0.391200\n",
      "Epoch  5, CIFAR-10 Batch 1:  Loss:     1.6131 Validation Accuracy: 0.429400\n",
      "Epoch  6, CIFAR-10 Batch 1:  Loss:     1.4039 Validation Accuracy: 0.455200\n",
      "Epoch  7, CIFAR-10 Batch 1:  Loss:     1.2299 Validation Accuracy: 0.479600\n",
      "Epoch  8, CIFAR-10 Batch 1:  Loss:     1.0543 Validation Accuracy: 0.486800\n",
      "Epoch  9, CIFAR-10 Batch 1:  Loss:     0.8838 Validation Accuracy: 0.506800\n",
      "Epoch 10, CIFAR-10 Batch 1:  Loss:     0.7455 Validation Accuracy: 0.507200\n",
      "Epoch 11, CIFAR-10 Batch 1:  Loss:     0.6636 Validation Accuracy: 0.514400\n",
      "Epoch 12, CIFAR-10 Batch 1:  Loss:     0.5597 Validation Accuracy: 0.522400\n",
      "Epoch 13, CIFAR-10 Batch 1:  Loss:     0.4728 Validation Accuracy: 0.535000\n",
      "Epoch 14, CIFAR-10 Batch 1:  Loss:     0.3946 Validation Accuracy: 0.527600\n",
      "Epoch 15, CIFAR-10 Batch 1:  Loss:     0.3497 Validation Accuracy: 0.510200\n",
      "Epoch 16, CIFAR-10 Batch 1:  Loss:     0.3260 Validation Accuracy: 0.499400\n",
      "Epoch 17, CIFAR-10 Batch 1:  Loss:     0.2623 Validation Accuracy: 0.498600\n",
      "Epoch 18, CIFAR-10 Batch 1:  Loss:     0.1796 Validation Accuracy: 0.533200\n",
      "Epoch 19, CIFAR-10 Batch 1:  Loss:     0.1802 Validation Accuracy: 0.529400\n",
      "Epoch 20, CIFAR-10 Batch 1:  Loss:     0.1284 Validation Accuracy: 0.545200\n",
      "Epoch 21, CIFAR-10 Batch 1:  Loss:     0.0970 Validation Accuracy: 0.560800\n",
      "Epoch 22, CIFAR-10 Batch 1:  Loss:     0.0596 Validation Accuracy: 0.552400\n",
      "Epoch 23, CIFAR-10 Batch 1:  Loss:     0.0330 Validation Accuracy: 0.558400\n",
      "Epoch 24, CIFAR-10 Batch 1:  Loss:     0.0321 Validation Accuracy: 0.566000\n",
      "Epoch 25, CIFAR-10 Batch 1:  Loss:     0.0285 Validation Accuracy: 0.565000\n",
      "Epoch 26, CIFAR-10 Batch 1:  Loss:     0.0590 Validation Accuracy: 0.549200\n",
      "Epoch 27, CIFAR-10 Batch 1:  Loss:     0.0301 Validation Accuracy: 0.562000\n",
      "Epoch 28, CIFAR-10 Batch 1:  Loss:     0.0176 Validation Accuracy: 0.544800\n",
      "Epoch 29, CIFAR-10 Batch 1:  Loss:     0.0268 Validation Accuracy: 0.548800\n",
      "Epoch 30, CIFAR-10 Batch 1:  Loss:     0.0205 Validation Accuracy: 0.529400\n",
      "Epoch 31, CIFAR-10 Batch 1:  Loss:     0.0145 Validation Accuracy: 0.545200\n",
      "Epoch 32, CIFAR-10 Batch 1:  Loss:     0.0113 Validation Accuracy: 0.554000\n",
      "Epoch 33, CIFAR-10 Batch 1:  Loss:     0.0136 Validation Accuracy: 0.566200\n",
      "Epoch 34, CIFAR-10 Batch 1:  Loss:     0.0062 Validation Accuracy: 0.557000\n",
      "Epoch 35, CIFAR-10 Batch 1:  Loss:     0.0067 Validation Accuracy: 0.550200\n",
      "Epoch 36, CIFAR-10 Batch 1:  Loss:     0.0137 Validation Accuracy: 0.557600\n",
      "Epoch 37, CIFAR-10 Batch 1:  Loss:     0.0039 Validation Accuracy: 0.558200\n",
      "Epoch 38, CIFAR-10 Batch 1:  Loss:     0.0056 Validation Accuracy: 0.558200\n",
      "Epoch 39, CIFAR-10 Batch 1:  Loss:     0.0039 Validation Accuracy: 0.566800\n",
      "Epoch 40, CIFAR-10 Batch 1:  Loss:     0.0026 Validation Accuracy: 0.554400\n",
      "Epoch 41, CIFAR-10 Batch 1:  Loss:     0.0036 Validation Accuracy: 0.545400\n",
      "Epoch 42, CIFAR-10 Batch 1:  Loss:     0.0031 Validation Accuracy: 0.568200\n",
      "Epoch 43, CIFAR-10 Batch 1:  Loss:     0.0013 Validation Accuracy: 0.571200\n",
      "Epoch 44, CIFAR-10 Batch 1:  Loss:     0.0032 Validation Accuracy: 0.568200\n",
      "Epoch 45, CIFAR-10 Batch 1:  Loss:     0.0005 Validation Accuracy: 0.568200\n",
      "Epoch 46, CIFAR-10 Batch 1:  Loss:     0.0009 Validation Accuracy: 0.575400\n",
      "Epoch 47, CIFAR-10 Batch 1:  Loss:     0.0009 Validation Accuracy: 0.574600\n",
      "Epoch 48, CIFAR-10 Batch 1:  Loss:     0.0007 Validation Accuracy: 0.572400\n",
      "Epoch 49, CIFAR-10 Batch 1:  Loss:     0.0007 Validation Accuracy: 0.570400\n",
      "Epoch 50, CIFAR-10 Batch 1:  Loss:     0.0004 Validation Accuracy: 0.569400\n",
      "Epoch 51, CIFAR-10 Batch 1:  Loss:     0.0003 Validation Accuracy: 0.562000\n",
      "Epoch 52, CIFAR-10 Batch 1:  Loss:     0.0004 Validation Accuracy: 0.570000\n",
      "Epoch 53, CIFAR-10 Batch 1:  Loss:     0.0003 Validation Accuracy: 0.568000\n",
      "Epoch 54, CIFAR-10 Batch 1:  Loss:     0.0001 Validation Accuracy: 0.574200\n",
      "Epoch 55, CIFAR-10 Batch 1:  Loss:     0.0003 Validation Accuracy: 0.572600\n",
      "Epoch 56, CIFAR-10 Batch 1:  Loss:     0.0001 Validation Accuracy: 0.565800\n",
      "Epoch 57, CIFAR-10 Batch 1:  Loss:     0.0003 Validation Accuracy: 0.579400\n",
      "Epoch 58, CIFAR-10 Batch 1:  Loss:     0.0005 Validation Accuracy: 0.571200\n",
      "Epoch 59, CIFAR-10 Batch 1:  Loss:     0.0005 Validation Accuracy: 0.569600\n",
      "Epoch 60, CIFAR-10 Batch 1:  Loss:     0.0001 Validation Accuracy: 0.568400\n",
      "Epoch 61, CIFAR-10 Batch 1:  Loss:     0.0001 Validation Accuracy: 0.571800\n",
      "Epoch 62, CIFAR-10 Batch 1:  Loss:     0.0001 Validation Accuracy: 0.566600\n",
      "Epoch 63, CIFAR-10 Batch 1:  Loss:     0.0001 Validation Accuracy: 0.573400\n",
      "Epoch 64, CIFAR-10 Batch 1:  Loss:     0.0004 Validation Accuracy: 0.578800\n",
      "Epoch 65, CIFAR-10 Batch 1:  Loss:     0.0001 Validation Accuracy: 0.571200\n",
      "Epoch 66, CIFAR-10 Batch 1:  Loss:     0.0002 Validation Accuracy: 0.578800\n",
      "Epoch 67, CIFAR-10 Batch 1:  Loss:     0.0001 Validation Accuracy: 0.574000\n",
      "Epoch 68, CIFAR-10 Batch 1:  Loss:     0.0001 Validation Accuracy: 0.568800\n",
      "Epoch 69, CIFAR-10 Batch 1:  Loss:     0.0001 Validation Accuracy: 0.578400\n",
      "Epoch 70, CIFAR-10 Batch 1:  Loss:     0.0001 Validation Accuracy: 0.567000\n",
      "Epoch 71, CIFAR-10 Batch 1:  Loss:     0.0002 Validation Accuracy: 0.574600\n",
      "Epoch 72, CIFAR-10 Batch 1:  Loss:     0.0000 Validation Accuracy: 0.572200\n",
      "Epoch 73, CIFAR-10 Batch 1:  Loss:     0.0002 Validation Accuracy: 0.565200\n",
      "Epoch 74, CIFAR-10 Batch 1:  Loss:     0.0001 Validation Accuracy: 0.573200\n",
      "Epoch 75, CIFAR-10 Batch 1:  Loss:     0.0000 Validation Accuracy: 0.568000\n"
     ]
    }
   ],
   "source": [
    "\"\"\"\n",
    "DON'T MODIFY ANYTHING IN THIS CELL\n",
    "\"\"\"\n",
    "print('Checking the Training on a Single Batch...')\n",
    "with tf.Session() as sess:\n",
    "    # Initializing the variables\n",
    "    sess.run(tf.global_variables_initializer())\n",
    "    \n",
    "    # Training cycle\n",
    "    for epoch in range(epochs):\n",
    "        batch_i = 1\n",
    "        for batch_features, batch_labels in helper.load_preprocess_training_batch(batch_i, batch_size):\n",
    "            train_neural_network(sess, optimizer, keep_probability, batch_features, batch_labels)\n",
    "        print('Epoch {:>2}, CIFAR-10 Batch {}:  '.format(epoch + 1, batch_i), end='')\n",
    "        print_stats(sess, batch_features, batch_labels, cost, accuracy)"
   ]
  },
  {
   "cell_type": "markdown",
   "metadata": {
    "deletable": true,
    "editable": true
   },
   "source": [
    "### Fully Train the Model\n",
    "Now that you got a good accuracy with a single CIFAR-10 batch, try it with all five batches."
   ]
  },
  {
   "cell_type": "code",
   "execution_count": 18,
   "metadata": {
    "collapsed": false,
    "deletable": true,
    "editable": true
   },
   "outputs": [
    {
     "name": "stdout",
     "output_type": "stream",
     "text": [
      "Training...\n",
      "Epoch  1, CIFAR-10 Batch 1:  Loss:     2.1693 Validation Accuracy: 0.270800\n",
      "Epoch  1, CIFAR-10 Batch 2:  Loss:     1.9776 Validation Accuracy: 0.308000\n",
      "Epoch  1, CIFAR-10 Batch 3:  Loss:     1.5333 Validation Accuracy: 0.373600\n",
      "Epoch  1, CIFAR-10 Batch 4:  Loss:     1.5822 Validation Accuracy: 0.391200\n",
      "Epoch  1, CIFAR-10 Batch 5:  Loss:     1.6127 Validation Accuracy: 0.443200\n",
      "Epoch  2, CIFAR-10 Batch 1:  Loss:     1.6748 Validation Accuracy: 0.476400\n",
      "Epoch  2, CIFAR-10 Batch 2:  Loss:     1.3197 Validation Accuracy: 0.490800\n",
      "Epoch  2, CIFAR-10 Batch 3:  Loss:     1.1529 Validation Accuracy: 0.459000\n",
      "Epoch  2, CIFAR-10 Batch 4:  Loss:     1.2021 Validation Accuracy: 0.497400\n",
      "Epoch  2, CIFAR-10 Batch 5:  Loss:     1.2202 Validation Accuracy: 0.525200\n",
      "Epoch  3, CIFAR-10 Batch 1:  Loss:     1.3403 Validation Accuracy: 0.540200\n",
      "Epoch  3, CIFAR-10 Batch 2:  Loss:     1.0264 Validation Accuracy: 0.558400\n",
      "Epoch  3, CIFAR-10 Batch 3:  Loss:     0.8411 Validation Accuracy: 0.559600\n",
      "Epoch  3, CIFAR-10 Batch 4:  Loss:     0.9323 Validation Accuracy: 0.565400\n",
      "Epoch  3, CIFAR-10 Batch 5:  Loss:     0.9519 Validation Accuracy: 0.560800\n",
      "Epoch  4, CIFAR-10 Batch 1:  Loss:     0.9919 Validation Accuracy: 0.585000\n",
      "Epoch  4, CIFAR-10 Batch 2:  Loss:     0.7052 Validation Accuracy: 0.615600\n",
      "Epoch  4, CIFAR-10 Batch 3:  Loss:     0.6728 Validation Accuracy: 0.601400\n",
      "Epoch  4, CIFAR-10 Batch 4:  Loss:     0.7176 Validation Accuracy: 0.596400\n",
      "Epoch  4, CIFAR-10 Batch 5:  Loss:     0.6468 Validation Accuracy: 0.634000\n",
      "Epoch  5, CIFAR-10 Batch 1:  Loss:     0.6866 Validation Accuracy: 0.612800\n",
      "Epoch  5, CIFAR-10 Batch 2:  Loss:     0.4981 Validation Accuracy: 0.638400\n",
      "Epoch  5, CIFAR-10 Batch 3:  Loss:     0.4407 Validation Accuracy: 0.640000\n",
      "Epoch  5, CIFAR-10 Batch 4:  Loss:     0.5244 Validation Accuracy: 0.657200\n",
      "Epoch  5, CIFAR-10 Batch 5:  Loss:     0.4133 Validation Accuracy: 0.645400\n",
      "Epoch  6, CIFAR-10 Batch 1:  Loss:     0.4708 Validation Accuracy: 0.646200\n",
      "Epoch  6, CIFAR-10 Batch 2:  Loss:     0.3372 Validation Accuracy: 0.658000\n",
      "Epoch  6, CIFAR-10 Batch 3:  Loss:     0.2973 Validation Accuracy: 0.664400\n",
      "Epoch  6, CIFAR-10 Batch 4:  Loss:     0.3691 Validation Accuracy: 0.671800\n",
      "Epoch  6, CIFAR-10 Batch 5:  Loss:     0.2667 Validation Accuracy: 0.669600\n",
      "Epoch  7, CIFAR-10 Batch 1:  Loss:     0.2951 Validation Accuracy: 0.662200\n",
      "Epoch  7, CIFAR-10 Batch 2:  Loss:     0.1965 Validation Accuracy: 0.672400\n",
      "Epoch  7, CIFAR-10 Batch 3:  Loss:     0.2078 Validation Accuracy: 0.684800\n",
      "Epoch  7, CIFAR-10 Batch 4:  Loss:     0.2683 Validation Accuracy: 0.681400\n",
      "Epoch  7, CIFAR-10 Batch 5:  Loss:     0.1723 Validation Accuracy: 0.670800\n",
      "Epoch  8, CIFAR-10 Batch 1:  Loss:     0.1891 Validation Accuracy: 0.679200\n",
      "Epoch  8, CIFAR-10 Batch 2:  Loss:     0.1768 Validation Accuracy: 0.672000\n",
      "Epoch  8, CIFAR-10 Batch 3:  Loss:     0.1741 Validation Accuracy: 0.669000\n",
      "Epoch  8, CIFAR-10 Batch 4:  Loss:     0.1970 Validation Accuracy: 0.667000\n",
      "Epoch  8, CIFAR-10 Batch 5:  Loss:     0.1669 Validation Accuracy: 0.662000\n",
      "Epoch  9, CIFAR-10 Batch 1:  Loss:     0.1774 Validation Accuracy: 0.689400\n",
      "Epoch  9, CIFAR-10 Batch 2:  Loss:     0.1293 Validation Accuracy: 0.686800\n",
      "Epoch  9, CIFAR-10 Batch 3:  Loss:     0.1247 Validation Accuracy: 0.662600\n",
      "Epoch  9, CIFAR-10 Batch 4:  Loss:     0.1228 Validation Accuracy: 0.683600\n",
      "Epoch  9, CIFAR-10 Batch 5:  Loss:     0.0713 Validation Accuracy: 0.685400\n",
      "Epoch 10, CIFAR-10 Batch 1:  Loss:     0.1089 Validation Accuracy: 0.691600\n",
      "Epoch 10, CIFAR-10 Batch 2:  Loss:     0.0888 Validation Accuracy: 0.691600\n",
      "Epoch 10, CIFAR-10 Batch 3:  Loss:     0.0706 Validation Accuracy: 0.684000\n",
      "Epoch 10, CIFAR-10 Batch 4:  Loss:     0.0831 Validation Accuracy: 0.697600\n",
      "Epoch 10, CIFAR-10 Batch 5:  Loss:     0.0462 Validation Accuracy: 0.692200\n",
      "Epoch 11, CIFAR-10 Batch 1:  Loss:     0.0680 Validation Accuracy: 0.682200\n",
      "Epoch 11, CIFAR-10 Batch 2:  Loss:     0.0477 Validation Accuracy: 0.692800\n",
      "Epoch 11, CIFAR-10 Batch 3:  Loss:     0.0506 Validation Accuracy: 0.683800\n",
      "Epoch 11, CIFAR-10 Batch 4:  Loss:     0.0638 Validation Accuracy: 0.692600\n",
      "Epoch 11, CIFAR-10 Batch 5:  Loss:     0.0346 Validation Accuracy: 0.689800\n",
      "Epoch 12, CIFAR-10 Batch 1:  Loss:     0.0383 Validation Accuracy: 0.686000\n",
      "Epoch 12, CIFAR-10 Batch 2:  Loss:     0.0348 Validation Accuracy: 0.680400\n",
      "Epoch 12, CIFAR-10 Batch 3:  Loss:     0.0460 Validation Accuracy: 0.668200\n",
      "Epoch 12, CIFAR-10 Batch 4:  Loss:     0.0378 Validation Accuracy: 0.701400\n",
      "Epoch 12, CIFAR-10 Batch 5:  Loss:     0.0209 Validation Accuracy: 0.697200\n",
      "Epoch 13, CIFAR-10 Batch 1:  Loss:     0.0504 Validation Accuracy: 0.674400\n",
      "Epoch 13, CIFAR-10 Batch 2:  Loss:     0.0339 Validation Accuracy: 0.687200\n",
      "Epoch 13, CIFAR-10 Batch 3:  Loss:     0.0307 Validation Accuracy: 0.666600\n",
      "Epoch 13, CIFAR-10 Batch 4:  Loss:     0.0231 Validation Accuracy: 0.698600\n",
      "Epoch 13, CIFAR-10 Batch 5:  Loss:     0.0121 Validation Accuracy: 0.695000\n",
      "Epoch 14, CIFAR-10 Batch 1:  Loss:     0.0260 Validation Accuracy: 0.681800\n",
      "Epoch 14, CIFAR-10 Batch 2:  Loss:     0.0297 Validation Accuracy: 0.687800\n",
      "Epoch 14, CIFAR-10 Batch 3:  Loss:     0.0207 Validation Accuracy: 0.660800\n",
      "Epoch 14, CIFAR-10 Batch 4:  Loss:     0.0343 Validation Accuracy: 0.674600\n",
      "Epoch 14, CIFAR-10 Batch 5:  Loss:     0.0085 Validation Accuracy: 0.701000\n",
      "Epoch 15, CIFAR-10 Batch 1:  Loss:     0.0142 Validation Accuracy: 0.694600\n",
      "Epoch 15, CIFAR-10 Batch 2:  Loss:     0.0219 Validation Accuracy: 0.694600\n",
      "Epoch 15, CIFAR-10 Batch 3:  Loss:     0.0153 Validation Accuracy: 0.690600\n",
      "Epoch 15, CIFAR-10 Batch 4:  Loss:     0.0165 Validation Accuracy: 0.688200\n",
      "Epoch 15, CIFAR-10 Batch 5:  Loss:     0.0167 Validation Accuracy: 0.682400\n",
      "Epoch 16, CIFAR-10 Batch 1:  Loss:     0.0123 Validation Accuracy: 0.676800\n",
      "Epoch 16, CIFAR-10 Batch 2:  Loss:     0.0087 Validation Accuracy: 0.704200\n",
      "Epoch 16, CIFAR-10 Batch 3:  Loss:     0.0072 Validation Accuracy: 0.704400\n",
      "Epoch 16, CIFAR-10 Batch 4:  Loss:     0.0163 Validation Accuracy: 0.705600\n",
      "Epoch 16, CIFAR-10 Batch 5:  Loss:     0.0069 Validation Accuracy: 0.681800\n",
      "Epoch 17, CIFAR-10 Batch 1:  Loss:     0.0076 Validation Accuracy: 0.698000\n",
      "Epoch 17, CIFAR-10 Batch 2:  Loss:     0.0026 Validation Accuracy: 0.696400\n",
      "Epoch 17, CIFAR-10 Batch 3:  Loss:     0.0100 Validation Accuracy: 0.698600\n",
      "Epoch 17, CIFAR-10 Batch 4:  Loss:     0.0099 Validation Accuracy: 0.702000\n",
      "Epoch 17, CIFAR-10 Batch 5:  Loss:     0.0039 Validation Accuracy: 0.688800\n",
      "Epoch 18, CIFAR-10 Batch 1:  Loss:     0.0095 Validation Accuracy: 0.673200\n",
      "Epoch 18, CIFAR-10 Batch 2:  Loss:     0.0044 Validation Accuracy: 0.691200\n",
      "Epoch 18, CIFAR-10 Batch 3:  Loss:     0.0039 Validation Accuracy: 0.689400\n",
      "Epoch 18, CIFAR-10 Batch 4:  Loss:     0.0047 Validation Accuracy: 0.701800\n",
      "Epoch 18, CIFAR-10 Batch 5:  Loss:     0.0019 Validation Accuracy: 0.700800\n",
      "Epoch 19, CIFAR-10 Batch 1:  Loss:     0.0104 Validation Accuracy: 0.669000\n",
      "Epoch 19, CIFAR-10 Batch 2:  Loss:     0.0025 Validation Accuracy: 0.690600\n",
      "Epoch 19, CIFAR-10 Batch 3:  Loss:     0.0018 Validation Accuracy: 0.697200\n",
      "Epoch 19, CIFAR-10 Batch 4:  Loss:     0.0060 Validation Accuracy: 0.694800\n",
      "Epoch 19, CIFAR-10 Batch 5:  Loss:     0.0007 Validation Accuracy: 0.702200\n",
      "Epoch 20, CIFAR-10 Batch 1:  Loss:     0.0057 Validation Accuracy: 0.668000\n",
      "Epoch 20, CIFAR-10 Batch 2:  Loss:     0.0015 Validation Accuracy: 0.694000\n",
      "Epoch 20, CIFAR-10 Batch 3:  Loss:     0.0036 Validation Accuracy: 0.697800\n",
      "Epoch 20, CIFAR-10 Batch 4:  Loss:     0.0046 Validation Accuracy: 0.689000\n",
      "Epoch 20, CIFAR-10 Batch 5:  Loss:     0.0026 Validation Accuracy: 0.689200\n",
      "Epoch 21, CIFAR-10 Batch 1:  Loss:     0.0022 Validation Accuracy: 0.687400\n",
      "Epoch 21, CIFAR-10 Batch 2:  Loss:     0.0008 Validation Accuracy: 0.688800\n",
      "Epoch 21, CIFAR-10 Batch 3:  Loss:     0.0015 Validation Accuracy: 0.698000\n",
      "Epoch 21, CIFAR-10 Batch 4:  Loss:     0.0048 Validation Accuracy: 0.684600\n",
      "Epoch 21, CIFAR-10 Batch 5:  Loss:     0.0010 Validation Accuracy: 0.692600\n",
      "Epoch 22, CIFAR-10 Batch 1:  Loss:     0.0015 Validation Accuracy: 0.690400\n",
      "Epoch 22, CIFAR-10 Batch 2:  Loss:     0.0005 Validation Accuracy: 0.700400\n",
      "Epoch 22, CIFAR-10 Batch 3:  Loss:     0.0021 Validation Accuracy: 0.691600\n",
      "Epoch 22, CIFAR-10 Batch 4:  Loss:     0.0062 Validation Accuracy: 0.693400\n",
      "Epoch 22, CIFAR-10 Batch 5:  Loss:     0.0008 Validation Accuracy: 0.698600\n",
      "Epoch 23, CIFAR-10 Batch 1:  Loss:     0.0016 Validation Accuracy: 0.683600\n",
      "Epoch 23, CIFAR-10 Batch 2:  Loss:     0.0012 Validation Accuracy: 0.700600\n",
      "Epoch 23, CIFAR-10 Batch 3:  Loss:     0.0006 Validation Accuracy: 0.702000\n",
      "Epoch 23, CIFAR-10 Batch 4:  Loss:     0.0008 Validation Accuracy: 0.700200\n",
      "Epoch 23, CIFAR-10 Batch 5:  Loss:     0.0011 Validation Accuracy: 0.686800\n",
      "Epoch 24, CIFAR-10 Batch 1:  Loss:     0.0052 Validation Accuracy: 0.689400\n",
      "Epoch 24, CIFAR-10 Batch 2:  Loss:     0.0007 Validation Accuracy: 0.699200\n",
      "Epoch 24, CIFAR-10 Batch 3:  Loss:     0.0009 Validation Accuracy: 0.699800\n",
      "Epoch 24, CIFAR-10 Batch 4:  Loss:     0.0007 Validation Accuracy: 0.704600\n",
      "Epoch 24, CIFAR-10 Batch 5:  Loss:     0.0009 Validation Accuracy: 0.685400\n",
      "Epoch 25, CIFAR-10 Batch 1:  Loss:     0.0011 Validation Accuracy: 0.694600\n",
      "Epoch 25, CIFAR-10 Batch 2:  Loss:     0.0008 Validation Accuracy: 0.708000\n",
      "Epoch 25, CIFAR-10 Batch 3:  Loss:     0.0003 Validation Accuracy: 0.704400\n",
      "Epoch 25, CIFAR-10 Batch 4:  Loss:     0.0011 Validation Accuracy: 0.703200\n",
      "Epoch 25, CIFAR-10 Batch 5:  Loss:     0.0015 Validation Accuracy: 0.681400\n",
      "Epoch 26, CIFAR-10 Batch 1:  Loss:     0.0007 Validation Accuracy: 0.704400\n",
      "Epoch 26, CIFAR-10 Batch 2:  Loss:     0.0003 Validation Accuracy: 0.702000\n",
      "Epoch 26, CIFAR-10 Batch 3:  Loss:     0.0004 Validation Accuracy: 0.703800\n",
      "Epoch 26, CIFAR-10 Batch 4:  Loss:     0.0021 Validation Accuracy: 0.704400\n",
      "Epoch 26, CIFAR-10 Batch 5:  Loss:     0.0010 Validation Accuracy: 0.694200\n",
      "Epoch 27, CIFAR-10 Batch 1:  Loss:     0.0005 Validation Accuracy: 0.699000\n",
      "Epoch 27, CIFAR-10 Batch 2:  Loss:     0.0007 Validation Accuracy: 0.707200\n",
      "Epoch 27, CIFAR-10 Batch 3:  Loss:     0.0004 Validation Accuracy: 0.696400\n",
      "Epoch 27, CIFAR-10 Batch 4:  Loss:     0.0003 Validation Accuracy: 0.708800\n",
      "Epoch 27, CIFAR-10 Batch 5:  Loss:     0.0005 Validation Accuracy: 0.702600\n",
      "Epoch 28, CIFAR-10 Batch 1:  Loss:     0.0009 Validation Accuracy: 0.700400\n",
      "Epoch 28, CIFAR-10 Batch 2:  Loss:     0.0006 Validation Accuracy: 0.707400\n",
      "Epoch 28, CIFAR-10 Batch 3:  Loss:     0.0010 Validation Accuracy: 0.699400\n",
      "Epoch 28, CIFAR-10 Batch 4:  Loss:     0.0046 Validation Accuracy: 0.699000\n",
      "Epoch 28, CIFAR-10 Batch 5:  Loss:     0.0011 Validation Accuracy: 0.707000\n",
      "Epoch 29, CIFAR-10 Batch 1:  Loss:     0.0023 Validation Accuracy: 0.691200\n",
      "Epoch 29, CIFAR-10 Batch 2:  Loss:     0.0007 Validation Accuracy: 0.699800\n",
      "Epoch 29, CIFAR-10 Batch 3:  Loss:     0.0010 Validation Accuracy: 0.695000\n",
      "Epoch 29, CIFAR-10 Batch 4:  Loss:     0.0002 Validation Accuracy: 0.708000\n",
      "Epoch 29, CIFAR-10 Batch 5:  Loss:     0.0003 Validation Accuracy: 0.708600\n",
      "Epoch 30, CIFAR-10 Batch 1:  Loss:     0.0011 Validation Accuracy: 0.693600\n",
      "Epoch 30, CIFAR-10 Batch 2:  Loss:     0.0006 Validation Accuracy: 0.700200\n",
      "Epoch 30, CIFAR-10 Batch 3:  Loss:     0.0005 Validation Accuracy: 0.691800\n",
      "Epoch 30, CIFAR-10 Batch 4:  Loss:     0.0004 Validation Accuracy: 0.696400\n",
      "Epoch 30, CIFAR-10 Batch 5:  Loss:     0.0002 Validation Accuracy: 0.703400\n",
      "Epoch 31, CIFAR-10 Batch 1:  Loss:     0.0001 Validation Accuracy: 0.700800\n",
      "Epoch 31, CIFAR-10 Batch 2:  Loss:     0.0023 Validation Accuracy: 0.692200\n",
      "Epoch 31, CIFAR-10 Batch 3:  Loss:     0.0001 Validation Accuracy: 0.691400\n",
      "Epoch 31, CIFAR-10 Batch 4:  Loss:     0.0007 Validation Accuracy: 0.698000\n",
      "Epoch 31, CIFAR-10 Batch 5:  Loss:     0.0001 Validation Accuracy: 0.700800\n",
      "Epoch 32, CIFAR-10 Batch 1:  Loss:     0.0006 Validation Accuracy: 0.688200\n",
      "Epoch 32, CIFAR-10 Batch 2:  Loss:     0.0001 Validation Accuracy: 0.699200\n",
      "Epoch 32, CIFAR-10 Batch 3:  Loss:     0.0002 Validation Accuracy: 0.690800\n",
      "Epoch 32, CIFAR-10 Batch 4:  Loss:     0.0003 Validation Accuracy: 0.694000\n",
      "Epoch 32, CIFAR-10 Batch 5:  Loss:     0.0010 Validation Accuracy: 0.690800\n",
      "Epoch 33, CIFAR-10 Batch 1:  Loss:     0.0003 Validation Accuracy: 0.699400\n",
      "Epoch 33, CIFAR-10 Batch 2:  Loss:     0.0002 Validation Accuracy: 0.702800\n",
      "Epoch 33, CIFAR-10 Batch 3:  Loss:     0.0001 Validation Accuracy: 0.695800\n",
      "Epoch 33, CIFAR-10 Batch 4:  Loss:     0.0003 Validation Accuracy: 0.693800\n",
      "Epoch 33, CIFAR-10 Batch 5:  Loss:     0.0007 Validation Accuracy: 0.699600\n",
      "Epoch 34, CIFAR-10 Batch 1:  Loss:     0.0001 Validation Accuracy: 0.696200\n",
      "Epoch 34, CIFAR-10 Batch 2:  Loss:     0.0005 Validation Accuracy: 0.692200\n",
      "Epoch 34, CIFAR-10 Batch 3:  Loss:     0.0001 Validation Accuracy: 0.698200\n",
      "Epoch 34, CIFAR-10 Batch 4:  Loss:     0.0003 Validation Accuracy: 0.700800\n",
      "Epoch 34, CIFAR-10 Batch 5:  Loss:     0.0006 Validation Accuracy: 0.706200\n",
      "Epoch 35, CIFAR-10 Batch 1:  Loss:     0.0002 Validation Accuracy: 0.698800\n",
      "Epoch 35, CIFAR-10 Batch 2:  Loss:     0.0009 Validation Accuracy: 0.699200\n",
      "Epoch 35, CIFAR-10 Batch 3:  Loss:     0.0006 Validation Accuracy: 0.694800\n",
      "Epoch 35, CIFAR-10 Batch 4:  Loss:     0.0013 Validation Accuracy: 0.697600\n",
      "Epoch 35, CIFAR-10 Batch 5:  Loss:     0.0005 Validation Accuracy: 0.699600\n",
      "Epoch 36, CIFAR-10 Batch 1:  Loss:     0.0001 Validation Accuracy: 0.694600\n",
      "Epoch 36, CIFAR-10 Batch 2:  Loss:     0.0001 Validation Accuracy: 0.704000\n",
      "Epoch 36, CIFAR-10 Batch 3:  Loss:     0.0005 Validation Accuracy: 0.701600\n",
      "Epoch 36, CIFAR-10 Batch 4:  Loss:     0.0013 Validation Accuracy: 0.683800\n",
      "Epoch 36, CIFAR-10 Batch 5:  Loss:     0.0001 Validation Accuracy: 0.698600\n",
      "Epoch 37, CIFAR-10 Batch 1:  Loss:     0.0005 Validation Accuracy: 0.688800\n",
      "Epoch 37, CIFAR-10 Batch 2:  Loss:     0.0002 Validation Accuracy: 0.703200\n",
      "Epoch 37, CIFAR-10 Batch 3:  Loss:     0.0006 Validation Accuracy: 0.701000\n",
      "Epoch 37, CIFAR-10 Batch 4:  Loss:     0.0006 Validation Accuracy: 0.703800\n",
      "Epoch 37, CIFAR-10 Batch 5:  Loss:     0.0001 Validation Accuracy: 0.699600\n",
      "Epoch 38, CIFAR-10 Batch 1:  Loss:     0.0003 Validation Accuracy: 0.695800\n",
      "Epoch 38, CIFAR-10 Batch 2:  Loss:     0.0000 Validation Accuracy: 0.711800\n",
      "Epoch 38, CIFAR-10 Batch 3:  Loss:     0.0005 Validation Accuracy: 0.693800\n",
      "Epoch 38, CIFAR-10 Batch 4:  Loss:     0.0014 Validation Accuracy: 0.696600\n",
      "Epoch 38, CIFAR-10 Batch 5:  Loss:     0.0002 Validation Accuracy: 0.694600\n",
      "Epoch 39, CIFAR-10 Batch 1:  Loss:     0.0054 Validation Accuracy: 0.685200\n",
      "Epoch 39, CIFAR-10 Batch 2:  Loss:     0.0003 Validation Accuracy: 0.696400\n",
      "Epoch 39, CIFAR-10 Batch 3:  Loss:     0.0001 Validation Accuracy: 0.695600\n",
      "Epoch 39, CIFAR-10 Batch 4:  Loss:     0.0003 Validation Accuracy: 0.691600\n",
      "Epoch 39, CIFAR-10 Batch 5:  Loss:     0.0002 Validation Accuracy: 0.704800\n",
      "Epoch 40, CIFAR-10 Batch 1:  Loss:     0.0002 Validation Accuracy: 0.691600\n",
      "Epoch 40, CIFAR-10 Batch 2:  Loss:     0.0001 Validation Accuracy: 0.699400\n",
      "Epoch 40, CIFAR-10 Batch 3:  Loss:     0.0001 Validation Accuracy: 0.694000\n",
      "Epoch 40, CIFAR-10 Batch 4:  Loss:     0.0003 Validation Accuracy: 0.698200\n",
      "Epoch 40, CIFAR-10 Batch 5:  Loss:     0.0007 Validation Accuracy: 0.699600\n",
      "Epoch 41, CIFAR-10 Batch 1:  Loss:     0.0001 Validation Accuracy: 0.698800\n",
      "Epoch 41, CIFAR-10 Batch 2:  Loss:     0.0001 Validation Accuracy: 0.698200\n",
      "Epoch 41, CIFAR-10 Batch 3:  Loss:     0.0001 Validation Accuracy: 0.697800\n",
      "Epoch 41, CIFAR-10 Batch 4:  Loss:     0.0002 Validation Accuracy: 0.698200\n",
      "Epoch 41, CIFAR-10 Batch 5:  Loss:     0.0000 Validation Accuracy: 0.708800\n",
      "Epoch 42, CIFAR-10 Batch 1:  Loss:     0.0005 Validation Accuracy: 0.693000\n",
      "Epoch 42, CIFAR-10 Batch 2:  Loss:     0.0001 Validation Accuracy: 0.705800\n",
      "Epoch 42, CIFAR-10 Batch 3:  Loss:     0.0009 Validation Accuracy: 0.700800\n",
      "Epoch 42, CIFAR-10 Batch 4:  Loss:     0.0016 Validation Accuracy: 0.695200\n",
      "Epoch 42, CIFAR-10 Batch 5:  Loss:     0.0003 Validation Accuracy: 0.707200\n",
      "Epoch 43, CIFAR-10 Batch 1:  Loss:     0.0001 Validation Accuracy: 0.706200\n",
      "Epoch 43, CIFAR-10 Batch 2:  Loss:     0.0001 Validation Accuracy: 0.703000\n",
      "Epoch 43, CIFAR-10 Batch 3:  Loss:     0.0005 Validation Accuracy: 0.706200\n",
      "Epoch 43, CIFAR-10 Batch 4:  Loss:     0.0005 Validation Accuracy: 0.693000\n",
      "Epoch 43, CIFAR-10 Batch 5:  Loss:     0.0002 Validation Accuracy: 0.705600\n",
      "Epoch 44, CIFAR-10 Batch 1:  Loss:     0.0003 Validation Accuracy: 0.695800\n",
      "Epoch 44, CIFAR-10 Batch 2:  Loss:     0.0001 Validation Accuracy: 0.701000\n",
      "Epoch 44, CIFAR-10 Batch 3:  Loss:     0.0001 Validation Accuracy: 0.705400\n",
      "Epoch 44, CIFAR-10 Batch 4:  Loss:     0.0001 Validation Accuracy: 0.696200\n",
      "Epoch 44, CIFAR-10 Batch 5:  Loss:     0.0003 Validation Accuracy: 0.701000\n",
      "Epoch 45, CIFAR-10 Batch 1:  Loss:     0.0001 Validation Accuracy: 0.705600\n",
      "Epoch 45, CIFAR-10 Batch 2:  Loss:     0.0000 Validation Accuracy: 0.703200\n",
      "Epoch 45, CIFAR-10 Batch 3:  Loss:     0.0001 Validation Accuracy: 0.710000\n",
      "Epoch 45, CIFAR-10 Batch 4:  Loss:     0.0003 Validation Accuracy: 0.692400\n",
      "Epoch 45, CIFAR-10 Batch 5:  Loss:     0.0001 Validation Accuracy: 0.703200\n",
      "Epoch 46, CIFAR-10 Batch 1:  Loss:     0.0000 Validation Accuracy: 0.701800\n",
      "Epoch 46, CIFAR-10 Batch 2:  Loss:     0.0001 Validation Accuracy: 0.699000\n",
      "Epoch 46, CIFAR-10 Batch 3:  Loss:     0.0001 Validation Accuracy: 0.700400\n",
      "Epoch 46, CIFAR-10 Batch 4:  Loss:     0.0003 Validation Accuracy: 0.702000\n",
      "Epoch 46, CIFAR-10 Batch 5:  Loss:     0.0001 Validation Accuracy: 0.697200\n",
      "Epoch 47, CIFAR-10 Batch 1:  Loss:     0.0003 Validation Accuracy: 0.692600\n",
      "Epoch 47, CIFAR-10 Batch 2:  Loss:     0.0002 Validation Accuracy: 0.698600\n",
      "Epoch 47, CIFAR-10 Batch 3:  Loss:     0.0002 Validation Accuracy: 0.703600\n",
      "Epoch 47, CIFAR-10 Batch 4:  Loss:     0.0122 Validation Accuracy: 0.703600\n",
      "Epoch 47, CIFAR-10 Batch 5:  Loss:     0.0001 Validation Accuracy: 0.706000\n",
      "Epoch 48, CIFAR-10 Batch 1:  Loss:     0.0001 Validation Accuracy: 0.700600\n",
      "Epoch 48, CIFAR-10 Batch 2:  Loss:     0.0001 Validation Accuracy: 0.704200\n",
      "Epoch 48, CIFAR-10 Batch 3:  Loss:     0.0006 Validation Accuracy: 0.700600\n",
      "Epoch 48, CIFAR-10 Batch 4:  Loss:     0.0003 Validation Accuracy: 0.701600\n",
      "Epoch 48, CIFAR-10 Batch 5:  Loss:     0.0001 Validation Accuracy: 0.706400\n",
      "Epoch 49, CIFAR-10 Batch 1:  Loss:     0.0001 Validation Accuracy: 0.693400\n",
      "Epoch 49, CIFAR-10 Batch 2:  Loss:     0.0000 Validation Accuracy: 0.705200\n",
      "Epoch 49, CIFAR-10 Batch 3:  Loss:     0.0003 Validation Accuracy: 0.705200\n",
      "Epoch 49, CIFAR-10 Batch 4:  Loss:     0.0007 Validation Accuracy: 0.685800\n",
      "Epoch 49, CIFAR-10 Batch 5:  Loss:     0.0001 Validation Accuracy: 0.696800\n",
      "Epoch 50, CIFAR-10 Batch 1:  Loss:     0.0004 Validation Accuracy: 0.689400\n",
      "Epoch 50, CIFAR-10 Batch 2:  Loss:     0.0001 Validation Accuracy: 0.689600\n",
      "Epoch 50, CIFAR-10 Batch 3:  Loss:     0.0001 Validation Accuracy: 0.696800\n",
      "Epoch 50, CIFAR-10 Batch 4:  Loss:     0.0003 Validation Accuracy: 0.690200\n",
      "Epoch 50, CIFAR-10 Batch 5:  Loss:     0.0003 Validation Accuracy: 0.692800\n",
      "Epoch 51, CIFAR-10 Batch 1:  Loss:     0.0010 Validation Accuracy: 0.701000\n",
      "Epoch 51, CIFAR-10 Batch 2:  Loss:     0.0003 Validation Accuracy: 0.703200\n",
      "Epoch 51, CIFAR-10 Batch 3:  Loss:     0.0000 Validation Accuracy: 0.693600\n",
      "Epoch 51, CIFAR-10 Batch 4:  Loss:     0.0005 Validation Accuracy: 0.701200\n",
      "Epoch 51, CIFAR-10 Batch 5:  Loss:     0.0001 Validation Accuracy: 0.698600\n",
      "Epoch 52, CIFAR-10 Batch 1:  Loss:     0.0003 Validation Accuracy: 0.697800\n",
      "Epoch 52, CIFAR-10 Batch 2:  Loss:     0.0001 Validation Accuracy: 0.704000\n",
      "Epoch 52, CIFAR-10 Batch 3:  Loss:     0.0001 Validation Accuracy: 0.699000\n",
      "Epoch 52, CIFAR-10 Batch 4:  Loss:     0.0002 Validation Accuracy: 0.696600\n",
      "Epoch 52, CIFAR-10 Batch 5:  Loss:     0.0001 Validation Accuracy: 0.701000\n",
      "Epoch 53, CIFAR-10 Batch 1:  Loss:     0.0001 Validation Accuracy: 0.704000\n",
      "Epoch 53, CIFAR-10 Batch 2:  Loss:     0.0001 Validation Accuracy: 0.701200\n",
      "Epoch 53, CIFAR-10 Batch 3:  Loss:     0.0002 Validation Accuracy: 0.704200\n",
      "Epoch 53, CIFAR-10 Batch 4:  Loss:     0.0001 Validation Accuracy: 0.694800\n",
      "Epoch 53, CIFAR-10 Batch 5:  Loss:     0.0003 Validation Accuracy: 0.704000\n",
      "Epoch 54, CIFAR-10 Batch 1:  Loss:     0.0000 Validation Accuracy: 0.699200\n",
      "Epoch 54, CIFAR-10 Batch 2:  Loss:     0.0000 Validation Accuracy: 0.706800\n",
      "Epoch 54, CIFAR-10 Batch 3:  Loss:     0.0000 Validation Accuracy: 0.704000\n",
      "Epoch 54, CIFAR-10 Batch 4:  Loss:     0.0001 Validation Accuracy: 0.703000\n",
      "Epoch 54, CIFAR-10 Batch 5:  Loss:     0.0001 Validation Accuracy: 0.691600\n",
      "Epoch 55, CIFAR-10 Batch 1:  Loss:     0.0001 Validation Accuracy: 0.697000\n",
      "Epoch 55, CIFAR-10 Batch 2:  Loss:     0.0000 Validation Accuracy: 0.702000\n",
      "Epoch 55, CIFAR-10 Batch 3:  Loss:     0.0000 Validation Accuracy: 0.699600\n",
      "Epoch 55, CIFAR-10 Batch 4:  Loss:     0.0001 Validation Accuracy: 0.696200\n",
      "Epoch 55, CIFAR-10 Batch 5:  Loss:     0.0000 Validation Accuracy: 0.703800\n",
      "Epoch 56, CIFAR-10 Batch 1:  Loss:     0.0003 Validation Accuracy: 0.702800\n",
      "Epoch 56, CIFAR-10 Batch 2:  Loss:     0.0000 Validation Accuracy: 0.702400\n",
      "Epoch 56, CIFAR-10 Batch 3:  Loss:     0.0000 Validation Accuracy: 0.700800\n",
      "Epoch 56, CIFAR-10 Batch 4:  Loss:     0.0000 Validation Accuracy: 0.701800\n",
      "Epoch 56, CIFAR-10 Batch 5:  Loss:     0.0000 Validation Accuracy: 0.690800\n",
      "Epoch 57, CIFAR-10 Batch 1:  Loss:     0.0000 Validation Accuracy: 0.702400\n",
      "Epoch 57, CIFAR-10 Batch 2:  Loss:     0.0000 Validation Accuracy: 0.712800\n",
      "Epoch 57, CIFAR-10 Batch 3:  Loss:     0.0000 Validation Accuracy: 0.703600\n",
      "Epoch 57, CIFAR-10 Batch 4:  Loss:     0.0000 Validation Accuracy: 0.695000\n",
      "Epoch 57, CIFAR-10 Batch 5:  Loss:     0.0006 Validation Accuracy: 0.696800\n",
      "Epoch 58, CIFAR-10 Batch 1:  Loss:     0.0003 Validation Accuracy: 0.698000\n",
      "Epoch 58, CIFAR-10 Batch 2:  Loss:     0.0002 Validation Accuracy: 0.700200\n",
      "Epoch 58, CIFAR-10 Batch 3:  Loss:     0.0001 Validation Accuracy: 0.703000\n",
      "Epoch 58, CIFAR-10 Batch 4:  Loss:     0.0001 Validation Accuracy: 0.694200\n",
      "Epoch 58, CIFAR-10 Batch 5:  Loss:     0.0000 Validation Accuracy: 0.699400\n",
      "Epoch 59, CIFAR-10 Batch 1:  Loss:     0.0001 Validation Accuracy: 0.706400\n",
      "Epoch 59, CIFAR-10 Batch 2:  Loss:     0.0000 Validation Accuracy: 0.708800\n",
      "Epoch 59, CIFAR-10 Batch 3:  Loss:     0.0000 Validation Accuracy: 0.703600\n",
      "Epoch 59, CIFAR-10 Batch 4:  Loss:     0.0000 Validation Accuracy: 0.707000\n",
      "Epoch 59, CIFAR-10 Batch 5:  Loss:     0.0001 Validation Accuracy: 0.700400\n",
      "Epoch 60, CIFAR-10 Batch 1:  Loss:     0.0001 Validation Accuracy: 0.692000\n",
      "Epoch 60, CIFAR-10 Batch 2:  Loss:     0.0001 Validation Accuracy: 0.702400\n",
      "Epoch 60, CIFAR-10 Batch 3:  Loss:     0.0001 Validation Accuracy: 0.699800\n",
      "Epoch 60, CIFAR-10 Batch 4:  Loss:     0.0002 Validation Accuracy: 0.701400\n",
      "Epoch 60, CIFAR-10 Batch 5:  Loss:     0.0001 Validation Accuracy: 0.705600\n",
      "Epoch 61, CIFAR-10 Batch 1:  Loss:     0.0001 Validation Accuracy: 0.698200\n",
      "Epoch 61, CIFAR-10 Batch 2:  Loss:     0.0000 Validation Accuracy: 0.703200\n",
      "Epoch 61, CIFAR-10 Batch 3:  Loss:     0.0002 Validation Accuracy: 0.692800\n",
      "Epoch 61, CIFAR-10 Batch 4:  Loss:     0.0000 Validation Accuracy: 0.705000\n",
      "Epoch 61, CIFAR-10 Batch 5:  Loss:     0.0001 Validation Accuracy: 0.701800\n",
      "Epoch 62, CIFAR-10 Batch 1:  Loss:     0.0002 Validation Accuracy: 0.696000\n",
      "Epoch 62, CIFAR-10 Batch 2:  Loss:     0.0000 Validation Accuracy: 0.700000\n",
      "Epoch 62, CIFAR-10 Batch 3:  Loss:     0.0011 Validation Accuracy: 0.700400\n",
      "Epoch 62, CIFAR-10 Batch 4:  Loss:     0.0000 Validation Accuracy: 0.705800\n",
      "Epoch 62, CIFAR-10 Batch 5:  Loss:     0.0001 Validation Accuracy: 0.695400\n",
      "Epoch 63, CIFAR-10 Batch 1:  Loss:     0.0003 Validation Accuracy: 0.700000\n",
      "Epoch 63, CIFAR-10 Batch 2:  Loss:     0.0000 Validation Accuracy: 0.692800\n",
      "Epoch 63, CIFAR-10 Batch 3:  Loss:     0.0001 Validation Accuracy: 0.704800\n",
      "Epoch 63, CIFAR-10 Batch 4:  Loss:     0.0000 Validation Accuracy: 0.699800\n",
      "Epoch 63, CIFAR-10 Batch 5:  Loss:     0.0000 Validation Accuracy: 0.706200\n",
      "Epoch 64, CIFAR-10 Batch 1:  Loss:     0.0001 Validation Accuracy: 0.700800\n",
      "Epoch 64, CIFAR-10 Batch 2:  Loss:     0.0000 Validation Accuracy: 0.707200\n",
      "Epoch 64, CIFAR-10 Batch 3:  Loss:     0.0000 Validation Accuracy: 0.696200\n",
      "Epoch 64, CIFAR-10 Batch 4:  Loss:     0.0000 Validation Accuracy: 0.701000\n",
      "Epoch 64, CIFAR-10 Batch 5:  Loss:     0.0002 Validation Accuracy: 0.704400\n",
      "Epoch 65, CIFAR-10 Batch 1:  Loss:     0.0001 Validation Accuracy: 0.691400\n",
      "Epoch 65, CIFAR-10 Batch 2:  Loss:     0.0000 Validation Accuracy: 0.705200\n",
      "Epoch 65, CIFAR-10 Batch 3:  Loss:     0.0002 Validation Accuracy: 0.700600\n",
      "Epoch 65, CIFAR-10 Batch 4:  Loss:     0.0000 Validation Accuracy: 0.700400\n",
      "Epoch 65, CIFAR-10 Batch 5:  Loss:     0.0002 Validation Accuracy: 0.702200\n",
      "Epoch 66, CIFAR-10 Batch 1:  Loss:     0.0001 Validation Accuracy: 0.698400\n",
      "Epoch 66, CIFAR-10 Batch 2:  Loss:     0.0000 Validation Accuracy: 0.706200\n",
      "Epoch 66, CIFAR-10 Batch 3:  Loss:     0.0002 Validation Accuracy: 0.702800\n",
      "Epoch 66, CIFAR-10 Batch 4:  Loss:     0.0000 Validation Accuracy: 0.698400\n",
      "Epoch 66, CIFAR-10 Batch 5:  Loss:     0.0004 Validation Accuracy: 0.703400\n",
      "Epoch 67, CIFAR-10 Batch 1:  Loss:     0.0003 Validation Accuracy: 0.700600\n",
      "Epoch 67, CIFAR-10 Batch 2:  Loss:     0.0000 Validation Accuracy: 0.713400\n",
      "Epoch 67, CIFAR-10 Batch 3:  Loss:     0.0001 Validation Accuracy: 0.706200\n",
      "Epoch 67, CIFAR-10 Batch 4:  Loss:     0.0001 Validation Accuracy: 0.706400\n",
      "Epoch 67, CIFAR-10 Batch 5:  Loss:     0.0000 Validation Accuracy: 0.705800\n",
      "Epoch 68, CIFAR-10 Batch 1:  Loss:     0.0002 Validation Accuracy: 0.702600\n",
      "Epoch 68, CIFAR-10 Batch 2:  Loss:     0.0002 Validation Accuracy: 0.706200\n",
      "Epoch 68, CIFAR-10 Batch 3:  Loss:     0.0001 Validation Accuracy: 0.701200\n",
      "Epoch 68, CIFAR-10 Batch 4:  Loss:     0.0000 Validation Accuracy: 0.697800\n",
      "Epoch 68, CIFAR-10 Batch 5:  Loss:     0.0000 Validation Accuracy: 0.695400\n",
      "Epoch 69, CIFAR-10 Batch 1:  Loss:     0.0000 Validation Accuracy: 0.697400\n",
      "Epoch 69, CIFAR-10 Batch 2:  Loss:     0.0001 Validation Accuracy: 0.706000\n",
      "Epoch 69, CIFAR-10 Batch 3:  Loss:     0.0001 Validation Accuracy: 0.700400\n",
      "Epoch 69, CIFAR-10 Batch 4:  Loss:     0.0000 Validation Accuracy: 0.695600\n",
      "Epoch 69, CIFAR-10 Batch 5:  Loss:     0.0000 Validation Accuracy: 0.703800\n",
      "Epoch 70, CIFAR-10 Batch 1:  Loss:     0.0001 Validation Accuracy: 0.697800\n",
      "Epoch 70, CIFAR-10 Batch 2:  Loss:     0.0001 Validation Accuracy: 0.707000\n",
      "Epoch 70, CIFAR-10 Batch 3:  Loss:     0.0001 Validation Accuracy: 0.698800\n",
      "Epoch 70, CIFAR-10 Batch 4:  Loss:     0.0000 Validation Accuracy: 0.696000\n",
      "Epoch 70, CIFAR-10 Batch 5:  Loss:     0.0001 Validation Accuracy: 0.702600\n",
      "Epoch 71, CIFAR-10 Batch 1:  Loss:     0.0001 Validation Accuracy: 0.697000\n",
      "Epoch 71, CIFAR-10 Batch 2:  Loss:     0.0000 Validation Accuracy: 0.704800\n",
      "Epoch 71, CIFAR-10 Batch 3:  Loss:     0.0000 Validation Accuracy: 0.701200\n",
      "Epoch 71, CIFAR-10 Batch 4:  Loss:     0.0000 Validation Accuracy: 0.702600\n",
      "Epoch 71, CIFAR-10 Batch 5:  Loss:     0.0000 Validation Accuracy: 0.703000\n",
      "Epoch 72, CIFAR-10 Batch 1:  Loss:     0.0000 Validation Accuracy: 0.701600\n",
      "Epoch 72, CIFAR-10 Batch 2:  Loss:     0.0000 Validation Accuracy: 0.710800\n",
      "Epoch 72, CIFAR-10 Batch 3:  Loss:     0.0000 Validation Accuracy: 0.706600\n",
      "Epoch 72, CIFAR-10 Batch 4:  Loss:     0.0000 Validation Accuracy: 0.701000\n",
      "Epoch 72, CIFAR-10 Batch 5:  Loss:     0.0000 Validation Accuracy: 0.707800\n",
      "Epoch 73, CIFAR-10 Batch 1:  Loss:     0.0003 Validation Accuracy: 0.699800\n",
      "Epoch 73, CIFAR-10 Batch 2:  Loss:     0.0000 Validation Accuracy: 0.701200\n",
      "Epoch 73, CIFAR-10 Batch 3:  Loss:     0.0000 Validation Accuracy: 0.708600\n",
      "Epoch 73, CIFAR-10 Batch 4:  Loss:     0.0000 Validation Accuracy: 0.704800\n",
      "Epoch 73, CIFAR-10 Batch 5:  Loss:     0.0001 Validation Accuracy: 0.707400\n",
      "Epoch 74, CIFAR-10 Batch 1:  Loss:     0.0000 Validation Accuracy: 0.699200\n",
      "Epoch 74, CIFAR-10 Batch 2:  Loss:     0.0000 Validation Accuracy: 0.704800\n",
      "Epoch 74, CIFAR-10 Batch 3:  Loss:     0.0000 Validation Accuracy: 0.704600\n",
      "Epoch 74, CIFAR-10 Batch 4:  Loss:     0.0001 Validation Accuracy: 0.701800\n",
      "Epoch 74, CIFAR-10 Batch 5:  Loss:     0.0002 Validation Accuracy: 0.698000\n",
      "Epoch 75, CIFAR-10 Batch 1:  Loss:     0.0001 Validation Accuracy: 0.697800\n",
      "Epoch 75, CIFAR-10 Batch 2:  Loss:     0.0000 Validation Accuracy: 0.705000\n",
      "Epoch 75, CIFAR-10 Batch 3:  Loss:     0.0000 Validation Accuracy: 0.701600\n",
      "Epoch 75, CIFAR-10 Batch 4:  Loss:     0.0003 Validation Accuracy: 0.694200\n",
      "Epoch 75, CIFAR-10 Batch 5:  Loss:     0.0000 Validation Accuracy: 0.712800\n"
     ]
    }
   ],
   "source": [
    "\"\"\"\n",
    "DON'T MODIFY ANYTHING IN THIS CELL\n",
    "\"\"\"\n",
    "save_model_path = './image_classification'\n",
    "\n",
    "print('Training...')\n",
    "with tf.Session() as sess:\n",
    "    # Initializing the variables\n",
    "    sess.run(tf.global_variables_initializer())\n",
    "    \n",
    "    # Training cycle\n",
    "    for epoch in range(epochs):\n",
    "        # Loop over all batches\n",
    "        n_batches = 5\n",
    "        for batch_i in range(1, n_batches + 1):\n",
    "            for batch_features, batch_labels in helper.load_preprocess_training_batch(batch_i, batch_size):\n",
    "                train_neural_network(sess, optimizer, keep_probability, batch_features, batch_labels)\n",
    "            print('Epoch {:>2}, CIFAR-10 Batch {}:  '.format(epoch + 1, batch_i), end='')\n",
    "            print_stats(sess, batch_features, batch_labels, cost, accuracy)\n",
    "            \n",
    "    # Save Model\n",
    "    saver = tf.train.Saver()\n",
    "    save_path = saver.save(sess, save_model_path)"
   ]
  },
  {
   "cell_type": "markdown",
   "metadata": {
    "deletable": true,
    "editable": true
   },
   "source": [
    "# Checkpoint\n",
    "The model has been saved to disk.\n",
    "## Test Model\n",
    "Test your model against the test dataset.  This will be your final accuracy. You should have an accuracy greater than 50%. If you don't, keep tweaking the model architecture and parameters."
   ]
  },
  {
   "cell_type": "code",
   "execution_count": 19,
   "metadata": {
    "collapsed": false,
    "deletable": true,
    "editable": true
   },
   "outputs": [
    {
     "name": "stdout",
     "output_type": "stream",
     "text": [
      "Testing Accuracy: 0.70478515625\n",
      "\n"
     ]
    },
    {
     "data": {
      "image/png": "[encoded data removed]",
      "text/plain": [
       "<matplotlib.figure.Figure at 0x7f7e01fd1b00>"
      ]
     },
     "metadata": {
      "image/png": {
       "height": 319,
       "width": 355
      }
     },
     "output_type": "display_data"
    }
   ],
   "source": [
    "\"\"\"\n",
    "DON'T MODIFY ANYTHING IN THIS CELL\n",
    "\"\"\"\n",
    "%matplotlib inline\n",
    "%config InlineBackend.figure_format = 'retina'\n",
    "\n",
    "import tensorflow as tf\n",
    "import pickle\n",
    "import helper\n",
    "import random\n",
    "\n",
    "# Set batch size if not already set\n",
    "try:\n",
    "    if batch_size:\n",
    "        pass\n",
    "except NameError:\n",
    "    batch_size = 64\n",
    "\n",
    "save_model_path = './image_classification'\n",
    "n_samples = 4\n",
    "top_n_predictions = 3\n",
    "\n",
    "def test_model():\n",
    "    \"\"\"\n",
    "    Test the saved model against the test dataset\n",
    "    \"\"\"\n",
    "\n",
    "    test_features, test_labels = pickle.load(open('preprocess_training.p', mode='rb'))\n",
    "    loaded_graph = tf.Graph()\n",
    "\n",
    "    with tf.Session(graph=loaded_graph) as sess:\n",
    "        # Load model\n",
    "        loader = tf.train.import_meta_graph(save_model_path + '.meta')\n",
    "        loader.restore(sess, save_model_path)\n",
    "\n",
    "        # Get Tensors from loaded model\n",
    "        loaded_x = loaded_graph.get_tensor_by_name('x:0')\n",
    "        loaded_y = loaded_graph.get_tensor_by_name('y:0')\n",
    "        loaded_keep_prob = loaded_graph.get_tensor_by_name('keep_prob:0')\n",
    "        loaded_logits = loaded_graph.get_tensor_by_name('logits:0')\n",
    "        loaded_acc = loaded_graph.get_tensor_by_name('accuracy:0')\n",
    "        \n",
    "        # Get accuracy in batches for memory limitations\n",
    "        test_batch_acc_total = 0\n",
    "        test_batch_count = 0\n",
    "        \n",
    "        for train_feature_batch, train_label_batch in helper.batch_features_labels(test_features, test_labels, batch_size):\n",
    "            test_batch_acc_total += sess.run(\n",
    "                loaded_acc,\n",
    "                feed_dict={loaded_x: train_feature_batch, loaded_y: train_label_batch, loaded_keep_prob: 1.0})\n",
    "            test_batch_count += 1\n",
    "\n",
    "        print('Testing Accuracy: {}\\n'.format(test_batch_acc_total/test_batch_count))\n",
    "\n",
    "        # Print Random Samples\n",
    "        random_test_features, random_test_labels = tuple(zip(*random.sample(list(zip(test_features, test_labels)), n_samples)))\n",
    "        random_test_predictions = sess.run(\n",
    "            tf.nn.top_k(tf.nn.softmax(loaded_logits), top_n_predictions),\n",
    "            feed_dict={loaded_x: random_test_features, loaded_y: random_test_labels, loaded_keep_prob: 1.0})\n",
    "        helper.display_image_predictions(random_test_features, random_test_labels, random_test_predictions)\n",
    "\n",
    "\n",
    "test_model()"
   ]
  },
  {
   "cell_type": "markdown",
   "metadata": {
    "deletable": true,
    "editable": true
   },
   "source": [
    "## Why 50-70% Accuracy?\n",
    "You might be wondering why you can't get an accuracy any higher. First things first, 50% isn't bad for a simple CNN.  Pure guessing would get you 10% accuracy. However, you might notice people are getting scores [well above 70%](http://rodrigob.github.io/are_we_there_yet/build/classification_datasets_results.html#43494641522d3130).  That's because we haven't taught you all there is to know about neural networks. We still need to cover a few more techniques.\n",
    "## Submitting This Project\n",
    "When submitting this project, make sure to run all the cells before saving the notebook.  Save the notebook file as \"dlnd_image_classification.ipynb\" and save it as a HTML file under \"File\" -> \"Download as\".  Include the \"helper.py\" and \"problem_unittests.py\" files in your submission."
   ]
  }
 ],
 "metadata": {
  "kernelspec": {
   "display_name": "Python 3",
   "language": "python",
   "name": "python3"
  },
  "language_info": {
   "codemirror_mode": {
    "name": "ipython",
    "version": 3
   },
   "file_extension": ".py",
   "mimetype": "text/x-python",
   "name": "python",
   "nbconvert_exporter": "python",
   "pygments_lexer": "ipython3",
   "version": "3.5.2"
  },
  "widgets": {
   "state": {},
   "version": "1.1.2"
  }
 },
 "nbformat": 4,
 "nbformat_minor": 0
}
